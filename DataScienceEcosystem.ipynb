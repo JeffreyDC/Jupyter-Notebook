{
 "cells": [
  {
   "cell_type": "markdown",
   "id": "7c6e3457-b7ee-4ab1-b507-3ef47c7d8dc9",
   "metadata": {},
   "source": [
    "# Data Science Tools and Ecosystem"
   ]
  },
  {
   "cell_type": "markdown",
   "id": "88ab1d44-fa4c-472a-b23a-054d76c3c9d7",
   "metadata": {},
   "source": [
    "In this notebook, Data Science Tools and Ecosystem are summarized."
   ]
  },
  {
   "cell_type": "markdown",
   "id": "7ea77015-1a05-421a-9b05-926a17dd54a2",
   "metadata": {},
   "source": [
    "Objectives: \n",
    ". List popular languages for Data Science\n",
    ". List of the commonly used libraries for Data\n",
    ". Tools for Data Science"
   ]
  },
  {
   "cell_type": "markdown",
   "id": "836edfe3-5510-44e6-945a-6b2f20a80832",
   "metadata": {},
   "source": [
    "Some of the popular languages that Data Scientists use are:\n",
    "1. Python\n",
    "2. R\n",
    "3. Scala\n",
    "4. Julia"
   ]
  },
  {
   "attachments": {},
   "cell_type": "markdown",
   "id": "82b19122-e65e-461f-859f-de6d11b94a6b",
   "metadata": {},
   "source": [
    "Some of the commonly used libraries used by Data Scientists include:\n",
    "1. numpy\n",
    "2. pandas\n",
    "3. seaborn\n",
    "4. Scikit-Learn\n",
    "5. Matplotlib"
   ]
  },
  {
   "attachments": {},
   "cell_type": "markdown",
   "id": "460d82c0-3883-44bd-9b1b-39af51bf644d",
   "metadata": {},
   "source": [
    "| Data Science Tools |\n",
    "|--------------------|\n",
    "|  Jupyter notebook  |\n",
    "|       Rstudio      |\n",
    "|        Spyder      |"
   ]
  },
  {
   "cell_type": "markdown",
   "id": "1c893dd2-03d6-4950-9cc3-5b04fedf8dc8",
   "metadata": {},
   "source": [
    "### Below are a few examples of evaluating arithmetic expressions in Python"
   ]
  },
  {
   "cell_type": "code",
   "execution_count": 25,
   "id": "16360ef5-f79b-4ab3-b913-e5c452fd503b",
   "metadata": {},
   "outputs": [
    {
     "data": {
      "text/plain": [
       "17"
      ]
     },
     "execution_count": 25,
     "metadata": {},
     "output_type": "execute_result"
    }
   ],
   "source": [
    "#This a simple arithmetic expression to mutiply then add integers\n",
    "(3*4)+5"
   ]
  },
  {
   "cell_type": "code",
   "execution_count": 27,
   "id": "ba3d6a43-7dad-4964-9d6b-baa3bb77a1eb",
   "metadata": {},
   "outputs": [
    {
     "name": "stdout",
     "output_type": "stream",
     "text": [
      "3 hours et 20 minutes\n"
     ]
    }
   ],
   "source": [
    "#This will convert 200 minutes to hours by diving by 60\n",
    "minutes = 200\n",
    "hours = minutes // 60\n",
    "mod_minutes = minutes % 60\n",
    "print(f\"{heures} hours et {mod_minutes} minutes\")"
   ]
  },
  {
   "cell_type": "markdown",
   "id": "a3b0c7f9-0c54-4331-a326-caa6fb5ac51e",
   "metadata": {},
   "source": [
    "## Author\n",
    "Jeffrey CONGO"
   ]
  }
 ],
 "metadata": {
  "kernelspec": {
   "display_name": "Python 3 (ipykernel)",
   "language": "python",
   "name": "python3"
  },
  "language_info": {
   "codemirror_mode": {
    "name": "ipython",
    "version": 3
   },
   "file_extension": ".py",
   "mimetype": "text/x-python",
   "name": "python",
   "nbconvert_exporter": "python",
   "pygments_lexer": "ipython3",
   "version": "3.12.7"
  }
 },
 "nbformat": 4,
 "nbformat_minor": 5
}
